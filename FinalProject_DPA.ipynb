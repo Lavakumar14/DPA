{
  "nbformat": 4,
  "nbformat_minor": 0,
  "metadata": {
    "colab": {
      "provenance": [],
      "gpuType": "V28",
      "include_colab_link": true
    },
    "kernelspec": {
      "name": "python3",
      "display_name": "Python 3"
    },
    "language_info": {
      "name": "python"
    },
    "accelerator": "TPU"
  },
  "cells": [
    {
      "cell_type": "markdown",
      "metadata": {
        "id": "view-in-github",
        "colab_type": "text"
      },
      "source": [
        "<a href=\"https://colab.research.google.com/github/Lavakumar14/DPA/blob/main/FinalProject_DPA.ipynb\" target=\"_parent\"><img src=\"https://colab.research.google.com/assets/colab-badge.svg\" alt=\"Open In Colab\"/></a>"
      ]
    },
    {
      "cell_type": "code",
      "execution_count": null,
      "metadata": {
        "colab": {
          "base_uri": "https://localhost:8080/",
          "height": 1000
        },
        "id": "p7cFUZWEQbNF",
        "outputId": "d4aea3b3-3e70-4ef2-a159-a53d713f8f47"
      },
      "outputs": [
        {
          "output_type": "stream",
          "name": "stdout",
          "text": [
            "Requirement already satisfied: numpy in /usr/local/lib/python3.10/dist-packages (1.26.4)\n",
            "Requirement already satisfied: pandas in /usr/local/lib/python3.10/dist-packages (2.2.2)\n",
            "Requirement already satisfied: scikit-learn in /usr/local/lib/python3.10/dist-packages (1.5.2)\n",
            "Collecting skl2onnx\n",
            "  Downloading skl2onnx-1.17.0-py2.py3-none-any.whl.metadata (3.2 kB)\n",
            "Collecting onnx\n",
            "  Downloading onnx-1.17.0-cp310-cp310-manylinux_2_17_x86_64.manylinux2014_x86_64.whl.metadata (16 kB)\n",
            "Collecting onnxruntime\n",
            "  Downloading onnxruntime-1.20.1-cp310-cp310-manylinux_2_27_x86_64.manylinux_2_28_x86_64.whl.metadata (4.5 kB)\n",
            "Collecting openpyxl\n",
            "  Downloading openpyxl-3.1.5-py2.py3-none-any.whl.metadata (2.5 kB)\n",
            "Requirement already satisfied: python-dateutil>=2.8.2 in /usr/local/lib/python3.10/dist-packages (from pandas) (2.9.0.post0)\n",
            "Requirement already satisfied: pytz>=2020.1 in /usr/local/lib/python3.10/dist-packages (from pandas) (2024.2)\n",
            "Requirement already satisfied: tzdata>=2022.7 in /usr/local/lib/python3.10/dist-packages (from pandas) (2024.2)\n",
            "Requirement already satisfied: scipy>=1.6.0 in /usr/local/lib/python3.10/dist-packages (from scikit-learn) (1.13.1)\n",
            "Requirement already satisfied: joblib>=1.2.0 in /usr/local/lib/python3.10/dist-packages (from scikit-learn) (1.4.2)\n",
            "Requirement already satisfied: threadpoolctl>=3.1.0 in /usr/local/lib/python3.10/dist-packages (from scikit-learn) (3.5.0)\n",
            "Collecting onnxconverter-common>=1.7.0 (from skl2onnx)\n",
            "  Downloading onnxconverter_common-1.14.0-py2.py3-none-any.whl.metadata (4.2 kB)\n",
            "Requirement already satisfied: protobuf>=3.20.2 in /usr/local/lib/python3.10/dist-packages (from onnx) (4.25.5)\n",
            "Collecting coloredlogs (from onnxruntime)\n",
            "  Downloading coloredlogs-15.0.1-py2.py3-none-any.whl.metadata (12 kB)\n",
            "Requirement already satisfied: flatbuffers in /usr/local/lib/python3.10/dist-packages (from onnxruntime) (24.3.25)\n",
            "Requirement already satisfied: packaging in /usr/local/lib/python3.10/dist-packages (from onnxruntime) (24.2)\n",
            "Requirement already satisfied: sympy in /usr/local/lib/python3.10/dist-packages (from onnxruntime) (1.13.1)\n",
            "Collecting et-xmlfile (from openpyxl)\n",
            "  Downloading et_xmlfile-2.0.0-py3-none-any.whl.metadata (2.7 kB)\n",
            "Collecting protobuf>=3.20.2 (from onnx)\n",
            "  Downloading protobuf-3.20.2-cp310-cp310-manylinux_2_12_x86_64.manylinux2010_x86_64.whl.metadata (679 bytes)\n",
            "Requirement already satisfied: six>=1.5 in /usr/local/lib/python3.10/dist-packages (from python-dateutil>=2.8.2->pandas) (1.16.0)\n",
            "Collecting humanfriendly>=9.1 (from coloredlogs->onnxruntime)\n",
            "  Downloading humanfriendly-10.0-py2.py3-none-any.whl.metadata (9.2 kB)\n",
            "Requirement already satisfied: mpmath<1.4,>=1.1.0 in /usr/local/lib/python3.10/dist-packages (from sympy->onnxruntime) (1.3.0)\n",
            "Downloading skl2onnx-1.17.0-py2.py3-none-any.whl (298 kB)\n",
            "\u001b[2K   \u001b[90m━━━━━━━━━━━━━━━━━━━━━━━━━━━━━━━━━━━━━━━━\u001b[0m \u001b[32m298.4/298.4 kB\u001b[0m \u001b[31m3.2 MB/s\u001b[0m eta \u001b[36m0:00:00\u001b[0m\n",
            "\u001b[?25hDownloading onnx-1.17.0-cp310-cp310-manylinux_2_17_x86_64.manylinux2014_x86_64.whl (16.0 MB)\n",
            "\u001b[2K   \u001b[90m━━━━━━━━━━━━━━━━━━━━━━━━━━━━━━━━━━━━━━━━\u001b[0m \u001b[32m16.0/16.0 MB\u001b[0m \u001b[31m85.0 MB/s\u001b[0m eta \u001b[36m0:00:00\u001b[0m\n",
            "\u001b[?25hDownloading onnxruntime-1.20.1-cp310-cp310-manylinux_2_27_x86_64.manylinux_2_28_x86_64.whl (13.3 MB)\n",
            "\u001b[2K   \u001b[90m━━━━━━━━━━━━━━━━━━━━━━━━━━━━━━━━━━━━━━━━\u001b[0m \u001b[32m13.3/13.3 MB\u001b[0m \u001b[31m13.8 MB/s\u001b[0m eta \u001b[36m0:00:00\u001b[0m\n",
            "\u001b[?25hDownloading openpyxl-3.1.5-py2.py3-none-any.whl (250 kB)\n",
            "\u001b[2K   \u001b[90m━━━━━━━━━━━━━━━━━━━━━━━━━━━━━━━━━━━━━━━━\u001b[0m \u001b[32m250.9/250.9 kB\u001b[0m \u001b[31m111.7 kB/s\u001b[0m eta \u001b[36m0:00:00\u001b[0m\n",
            "\u001b[?25hDownloading onnxconverter_common-1.14.0-py2.py3-none-any.whl (84 kB)\n",
            "\u001b[2K   \u001b[90m━━━━━━━━━━━━━━━━━━━━━━━━━━━━━━━━━━━━━━━━\u001b[0m \u001b[32m84.5/84.5 kB\u001b[0m \u001b[31m817.2 kB/s\u001b[0m eta \u001b[36m0:00:00\u001b[0m\n",
            "\u001b[?25hDownloading protobuf-3.20.2-cp310-cp310-manylinux_2_12_x86_64.manylinux2010_x86_64.whl (1.1 MB)\n",
            "\u001b[2K   \u001b[90m━━━━━━━━━━━━━━━━━━━━━━━━━━━━━━━━━━━━━━━━\u001b[0m \u001b[32m1.1/1.1 MB\u001b[0m \u001b[31m36.8 MB/s\u001b[0m eta \u001b[36m0:00:00\u001b[0m\n",
            "\u001b[?25hDownloading coloredlogs-15.0.1-py2.py3-none-any.whl (46 kB)\n",
            "\u001b[2K   \u001b[90m━━━━━━━━━━━━━━━━━━━━━━━━━━━━━━━━━━━━━━━━\u001b[0m \u001b[32m46.0/46.0 kB\u001b[0m \u001b[31m1.3 MB/s\u001b[0m eta \u001b[36m0:00:00\u001b[0m\n",
            "\u001b[?25hDownloading et_xmlfile-2.0.0-py3-none-any.whl (18 kB)\n",
            "Downloading humanfriendly-10.0-py2.py3-none-any.whl (86 kB)\n",
            "\u001b[2K   \u001b[90m━━━━━━━━━━━━━━━━━━━━━━━━━━━━━━━━━━━━━━━━\u001b[0m \u001b[32m86.8/86.8 kB\u001b[0m \u001b[31m2.5 MB/s\u001b[0m eta \u001b[36m0:00:00\u001b[0m\n",
            "\u001b[?25hInstalling collected packages: protobuf, humanfriendly, et-xmlfile, openpyxl, onnx, coloredlogs, onnxruntime, onnxconverter-common, skl2onnx\n",
            "  Attempting uninstall: protobuf\n",
            "    Found existing installation: protobuf 4.25.5\n",
            "    Uninstalling protobuf-4.25.5:\n",
            "      Successfully uninstalled protobuf-4.25.5\n",
            "\u001b[31mERROR: pip's dependency resolver does not currently take into account all the packages that are installed. This behaviour is the source of the following dependency conflicts.\n",
            "tensorflow 2.15.0 requires protobuf!=4.21.0,!=4.21.1,!=4.21.2,!=4.21.3,!=4.21.4,!=4.21.5,<5.0.0dev,>=3.20.3, but you have protobuf 3.20.2 which is incompatible.\n",
            "tensorflow-metadata 1.13.1 requires protobuf<5,>=3.20.3, but you have protobuf 3.20.2 which is incompatible.\u001b[0m\u001b[31m\n",
            "\u001b[0mSuccessfully installed coloredlogs-15.0.1 et-xmlfile-2.0.0 humanfriendly-10.0 onnx-1.17.0 onnxconverter-common-1.14.0 onnxruntime-1.20.1 openpyxl-3.1.5 protobuf-3.20.2 skl2onnx-1.17.0\n"
          ]
        },
        {
          "output_type": "display_data",
          "data": {
            "application/vnd.colab-display-data+json": {
              "pip_warning": {
                "packages": [
                  "google"
                ]
              },
              "id": "e50b0df4dbf7428a9095e07987f2d263"
            }
          },
          "metadata": {}
        }
      ],
      "source": [
        "!pip install numpy pandas scikit-learn skl2onnx onnx onnxruntime openpyxl\n"
      ]
    },
    {
      "cell_type": "code",
      "source": [
        "import pandas as pd\n",
        "import os\n",
        "\n",
        "# Load the dataset\n",
        "file_path = \"/content/data_public.csv\"\n",
        "\n",
        "# Check if the file exists\n",
        "if os.path.exists(file_path):\n",
        "    data = pd.read_csv(file_path)\n",
        "\n",
        "    # Display dataset info and preview\n",
        "    print(data.info())\n",
        "    print(data.head())\n",
        "else:\n",
        "    print(f\"Error: File not found at {file_path}\")\n",
        "    print(\"Please check the file path and try again.\")"
      ],
      "metadata": {
        "colab": {
          "base_uri": "https://localhost:8080/"
        },
        "id": "qtk7T8IaQcpL",
        "outputId": "c87cf204-372a-4131-e93e-8e62e42b6308"
      },
      "execution_count": null,
      "outputs": [
        {
          "output_type": "stream",
          "name": "stdout",
          "text": [
            "<class 'pandas.core.frame.DataFrame'>\n",
            "RangeIndex: 249447 entries, 0 to 249446\n",
            "Data columns (total 16 columns):\n",
            " #   Column  Non-Null Count   Dtype  \n",
            "---  ------  --------------   -----  \n",
            " 0   A       249447 non-null  float64\n",
            " 1   B       249447 non-null  float64\n",
            " 2   C       249447 non-null  float64\n",
            " 3   D       249447 non-null  float64\n",
            " 4   E       249447 non-null  float64\n",
            " 5   F       249446 non-null  float64\n",
            " 6   G       249446 non-null  float64\n",
            " 7   H       249446 non-null  float64\n",
            " 8   I       249446 non-null  float64\n",
            " 9   J       249446 non-null  float64\n",
            " 10  K       249446 non-null  float64\n",
            " 11  L       249446 non-null  float64\n",
            " 12  M       249446 non-null  float64\n",
            " 13  N       249446 non-null  float64\n",
            " 14  O       249446 non-null  float64\n",
            " 15  Class   249446 non-null  float64\n",
            "dtypes: float64(16)\n",
            "memory usage: 30.5 MB\n",
            "None\n",
            "            A          B           C          D           E          F  \\\n",
            "0  231.420023 -12.210984  217.624839 -15.611916  140.047186  76.904999   \n",
            "1  -38.019270 -14.195695    9.583547  22.293822  -25.578283 -18.373955   \n",
            "2  -39.197085 -20.418850   21.023083  19.790280  -25.902587 -19.189004   \n",
            "3  221.630408  -5.785352  216.725322  -9.900781  126.795177  85.122288   \n",
            "4  228.558412 -12.447710  204.637217 -13.277704  138.930529  91.101870   \n",
            "\n",
            "            G           H          I           J           K         L  \\\n",
            "0  131.591871  198.160805  82.873279  127.350084  224.592926 -5.992983   \n",
            "1   -0.094457  -33.711852  -8.356041   23.792402    4.199023  2.809159   \n",
            "2   -2.953836  -25.299219  -6.612401   26.285392    5.911292  6.191587   \n",
            "3  108.857593  197.640135  82.560019  157.105143  212.989231 -3.621070   \n",
            "4  115.598954  209.300011  89.961688  130.299732  201.795100 -1.573922   \n",
            "\n",
            "           M           N           O  Class  \n",
            "0 -14.689648  143.072058  153.439659    3.0  \n",
            "1 -59.330681  -11.685950    1.317104    2.0  \n",
            "2 -56.924996   -4.675187   -1.027830    2.0  \n",
            "3 -15.469156  135.265859  149.212489    3.0  \n",
            "4 -15.128604  148.368622  147.492663    3.0  \n"
          ]
        }
      ]
    },
    {
      "cell_type": "code",
      "source": [
        "# Handle missing values\n",
        "data.fillna(data.mean(), inplace=True)"
      ],
      "metadata": {
        "id": "2-ukM66cQhz9"
      },
      "execution_count": null,
      "outputs": []
    },
    {
      "cell_type": "code",
      "source": [
        "from sklearn.model_selection import train_test_split\n",
        "\n",
        "# Split the data into features and target\n",
        "X = data.drop(columns=[\"Class\"])\n",
        "y = data[\"Class\"]\n",
        "\n",
        "# Split into training and testing sets\n",
        "X_train, X_test, y_train, y_test = train_test_split(X, y, test_size=0.2, random_state=42)\n",
        "\n"
      ],
      "metadata": {
        "id": "X4vQw_kRQwHj"
      },
      "execution_count": null,
      "outputs": []
    },
    {
      "cell_type": "code",
      "source": [
        "import pandas as pd\n",
        "from sklearn.model_selection import train_test_split, RandomizedSearchCV\n",
        "from sklearn.ensemble import RandomForestClassifier\n",
        "from sklearn.pipeline import Pipeline\n",
        "from sklearn.preprocessing import StandardScaler\n",
        "from sklearn.metrics import classification_report\n",
        "\n",
        "# Ensure the target variable contains integers (discrete classes)\n",
        "y_train = y_train.astype(int)\n",
        "y_test = y_test.astype(int)\n",
        "\n",
        "pipeline = Pipeline([\n",
        "    ('scaler', StandardScaler()),  # Standardize features\n",
        "    ('classifier', RandomForestClassifier(random_state=42, n_jobs=-1))  # Random Forest with parallelization\n",
        "])\n",
        "\n",
        "# Define hyperparameter grid for RandomForestClassifier\n",
        "param_grid = {\n",
        "    'classifier__n_estimators': [100],       # Number of trees\n",
        "    'classifier__max_depth': [10, None],     # Tree depth\n",
        "    'classifier__max_features': ['sqrt'] # Features considered at each split\n",
        "}\n",
        "\n",
        "random_search = RandomizedSearchCV(\n",
        "    estimator=pipeline,\n",
        "    param_distributions=param_grid,\n",
        "    n_iter=10,  # Test 10 random combinations\n",
        "    cv=3,\n",
        "    n_jobs=-1,\n",
        "    random_state=42\n",
        ")\n",
        "\n",
        "random_search.fit(X_train, y_train)\n",
        "best_pipeline = random_search.best_estimator_\n",
        "\n",
        "# Make predictions on the test set\n",
        "y_pred = best_pipeline.predict(X_test)\n",
        "\n",
        "# Evaluate the final model\n",
        "print(\"\\nClassification Report:\")\n",
        "print(classification_report(y_test, y_pred))\n",
        "\n",
        "# Print best parameters\n",
        "print(\"\\nBest Hyperparameters:\")\n",
        "print(random_search.best_params_)\n"
      ],
      "metadata": {
        "colab": {
          "base_uri": "https://localhost:8080/"
        },
        "id": "xBFYYj0XQyQb",
        "outputId": "31a89395-5606-48a3-a73e-048f932d67ef"
      },
      "execution_count": null,
      "outputs": [
        {
          "output_type": "stream",
          "name": "stderr",
          "text": [
            "/usr/local/lib/python3.10/dist-packages/sklearn/model_selection/_search.py:320: UserWarning: The total space of parameters 2 is smaller than n_iter=10. Running 2 iterations. For exhaustive searches, use GridSearchCV.\n",
            "  warnings.warn(\n"
          ]
        },
        {
          "output_type": "stream",
          "name": "stdout",
          "text": [
            "\n",
            "Classification Report:\n",
            "              precision    recall  f1-score   support\n",
            "\n",
            "           1       0.50      0.35      0.41      7473\n",
            "           2       0.75      1.00      0.86     18816\n",
            "           3       0.75      0.63      0.69     23601\n",
            "\n",
            "    accuracy                           0.73     49890\n",
            "   macro avg       0.67      0.66      0.65     49890\n",
            "weighted avg       0.72      0.73      0.71     49890\n",
            "\n",
            "\n",
            "Best Hyperparameters:\n",
            "{'classifier__n_estimators': 100, 'classifier__max_features': 'sqrt', 'classifier__max_depth': 10}\n"
          ]
        }
      ]
    },
    {
      "cell_type": "code",
      "source": [
        "import matplotlib.pyplot as plt\n",
        "import pandas as pd\n",
        "import numpy as np\n",
        "\n",
        "# Retrieve the Random Forest model from the best pipeline\n",
        "rf_model = best_pipeline.named_steps['classifier']\n",
        "\n",
        "# Get feature importance scores\n",
        "feature_importances = rf_model.feature_importances_\n",
        "\n",
        "# Create a DataFrame for better visualization\n",
        "feature_importance_df = pd.DataFrame({\n",
        "    'Feature': X_train.columns,\n",
        "    'Importance': feature_importances\n",
        "}).sort_values(by='Importance', ascending=False)\n",
        "\n",
        "# Display the top features\n",
        "print(\"Top Features:\")\n",
        "print(feature_importance_df.head(10))\n",
        "\n",
        "# Visualize feature importance\n",
        "plt.figure(figsize=(10, 6))\n",
        "plt.barh(\n",
        "    feature_importance_df['Feature'],\n",
        "    feature_importance_df['Importance'],\n",
        "    color='skyblue'\n",
        ")\n",
        "plt.title('Feature Importance')\n",
        "plt.xlabel('Importance Score')\n",
        "plt.ylabel('Features')\n",
        "plt.gca().invert_yaxis()  # Reverse the order for better readability\n",
        "plt.show()\n"
      ],
      "metadata": {
        "colab": {
          "base_uri": "https://localhost:8080/",
          "height": 772
        },
        "id": "DhgwauephR9p",
        "outputId": "76c56f52-f60d-412a-8f8e-38cb1d7b0b7e"
      },
      "execution_count": null,
      "outputs": [
        {
          "output_type": "stream",
          "name": "stdout",
          "text": [
            "Top Features:\n",
            "   Feature  Importance\n",
            "14       O    0.182570\n",
            "8        I    0.138145\n",
            "3        D    0.129898\n",
            "10       K    0.128995\n",
            "13       N    0.108036\n",
            "4        E    0.086550\n",
            "7        H    0.077844\n",
            "12       M    0.030930\n",
            "6        G    0.028624\n",
            "9        J    0.024826\n"
          ]
        },
        {
          "output_type": "display_data",
          "data": {
            "text/plain": [
              "<Figure size 1000x600 with 1 Axes>"
            ],
            "image/png": "[encoded data removed]"
          },
          "metadata": {}
        }
      ]
    },
    {
      "cell_type": "code",
      "source": [
        "!pip install onnxconverter-common\n",
        "!pip install skl2onnx\n",
        "\n",
        "from skl2onnx import convert_sklearn\n",
        "from skl2onnx.common.data_types import FloatTensorType  # Import FloatTensorType\n",
        "import onnxruntime as rt\n",
        "from sklearn.metrics import classification_report\n",
        "\n",
        "# Evaluate model\n",
        "y_pred = best_pipeline.predict(X_test)\n",
        "print(\"\\nClassification Report:\")\n",
        "print(classification_report(y_test, y_pred))\n",
        "\n",
        "# Convert to ONNX\n",
        "print(\"Converting pipeline to ONNX format...\")\n",
        "input_features = [(name, FloatTensorType([None, 1])) for name in X.columns]\n",
        "onnx_model = convert_sklearn(best_pipeline, initial_types=input_features, options={id(best_pipeline.named_steps['classifier']): {'zipmap': False}})\n",
        "\n",
        "# Save ONNX model\n",
        "onnx_model_path = \"model_pipeline.onnx\"\n",
        "with open(onnx_model_path, \"wb\") as f:\n",
        "    f.write(onnx_model.SerializeToString())\n",
        "print(f\"ONNX model saved at {onnx_model_path}\")\n",
        "\n",
        "# Load ONNX model for inference\n",
        "print(\"Loading ONNX model for inference...\")\n",
        "session = rt.InferenceSession(onnx_model_path)\n",
        "\n",
        "# Prepare test data for ONNX\n",
        "onnx_inputs = {name: X_test[name].values.astype(np.float32).reshape(-1, 1) for name in X.columns}\n",
        "\n",
        "# Run predictions using ONNX runtime\n",
        "print(\"Running predictions using ONNX runtime...\")\n",
        "onnx_outputs = session.run(None, onnx_inputs)  # Ensure this runs without errors\n",
        "\n",
        "# Extract probabilities and compute labels\n",
        "if len(onnx_outputs) > 0:\n",
        "    output_probabilities = onnx_outputs[0]  # Assuming the first output contains probabilities\n",
        "    print(f\"ONNX raw output shape: {output_probabilities.shape}\")\n",
        "\n",
        "    # Check if probabilities or raw labels\n",
        "    if output_probabilities.ndim > 1:\n",
        "        # If probabilities are provided, calculate labels\n",
        "        output_labels = np.argmax(output_probabilities, axis=1) + 1  # Adjust index to match class labels\n",
        "    else:\n",
        "        # Raw labels are directly provided\n",
        "        output_labels = output_probabilities.astype(int)\n",
        "else:\n",
        "    print(\"Error: ONNX output is empty.\")\n",
        "    output_probabilities = None\n",
        "    output_labels = None\n",
        "\n",
        "# Print probabilities and labels\n",
        "if output_probabilities is not None:\n",
        "    print(\"\\nOutput Probabilities (First 10):\")\n",
        "    print(output_probabilities[:10])\n",
        "\n",
        "if output_labels is not None:\n",
        "    print(\"\\nOutput Labels (First 10):\")\n",
        "    print(output_labels[:10])\n",
        "\n",
        "# Evaluate ONNX predictions (if labels exist)\n",
        "if output_labels is not None:\n",
        "    print(\"\\nONNX Model Predictions:\")\n",
        "    print(classification_report(y_test, output_labels))\n",
        "else:\n",
        "    print(\"No valid ONNX predictions to evaluate.\")\n"
      ],
      "metadata": {
        "colab": {
          "base_uri": "https://localhost:8080/"
        },
        "id": "K-cbD58IXpCy",
        "outputId": "a0ec373b-3a5c-4608-cc55-bef731450aad"
      },
      "execution_count": null,
      "outputs": [
        {
          "output_type": "stream",
          "name": "stdout",
          "text": [
            "Requirement already satisfied: onnxconverter-common in /usr/local/lib/python3.10/dist-packages (1.14.0)\n",
            "Requirement already satisfied: numpy in /usr/local/lib/python3.10/dist-packages (from onnxconverter-common) (1.26.4)\n",
            "Requirement already satisfied: onnx in /usr/local/lib/python3.10/dist-packages (from onnxconverter-common) (1.17.0)\n",
            "Requirement already satisfied: packaging in /usr/local/lib/python3.10/dist-packages (from onnxconverter-common) (24.2)\n",
            "Requirement already satisfied: protobuf==3.20.2 in /usr/local/lib/python3.10/dist-packages (from onnxconverter-common) (3.20.2)\n",
            "Requirement already satisfied: skl2onnx in /usr/local/lib/python3.10/dist-packages (1.17.0)\n",
            "Requirement already satisfied: onnx>=1.2.1 in /usr/local/lib/python3.10/dist-packages (from skl2onnx) (1.17.0)\n",
            "Requirement already satisfied: scikit-learn>=1.1 in /usr/local/lib/python3.10/dist-packages (from skl2onnx) (1.5.2)\n",
            "Requirement already satisfied: onnxconverter-common>=1.7.0 in /usr/local/lib/python3.10/dist-packages (from skl2onnx) (1.14.0)\n",
            "Requirement already satisfied: numpy>=1.20 in /usr/local/lib/python3.10/dist-packages (from onnx>=1.2.1->skl2onnx) (1.26.4)\n",
            "Requirement already satisfied: protobuf>=3.20.2 in /usr/local/lib/python3.10/dist-packages (from onnx>=1.2.1->skl2onnx) (3.20.2)\n",
            "Requirement already satisfied: packaging in /usr/local/lib/python3.10/dist-packages (from onnxconverter-common>=1.7.0->skl2onnx) (24.2)\n",
            "Requirement already satisfied: scipy>=1.6.0 in /usr/local/lib/python3.10/dist-packages (from scikit-learn>=1.1->skl2onnx) (1.13.1)\n",
            "Requirement already satisfied: joblib>=1.2.0 in /usr/local/lib/python3.10/dist-packages (from scikit-learn>=1.1->skl2onnx) (1.4.2)\n",
            "Requirement already satisfied: threadpoolctl>=3.1.0 in /usr/local/lib/python3.10/dist-packages (from scikit-learn>=1.1->skl2onnx) (3.5.0)\n",
            "\n",
            "Classification Report:\n",
            "              precision    recall  f1-score   support\n",
            "\n",
            "           1       0.50      0.35      0.41      7473\n",
            "           2       0.75      1.00      0.86     18816\n",
            "           3       0.75      0.63      0.69     23601\n",
            "\n",
            "    accuracy                           0.73     49890\n",
            "   macro avg       0.67      0.66      0.65     49890\n",
            "weighted avg       0.72      0.73      0.71     49890\n",
            "\n",
            "Converting pipeline to ONNX format...\n",
            "ONNX model saved at model_pipeline.onnx\n",
            "Loading ONNX model for inference...\n",
            "Running predictions using ONNX runtime...\n",
            "ONNX raw output shape: (49890,)\n",
            "\n",
            "Output Probabilities (First 10):\n",
            "[1 2 3 3 2 3 2 3 2 3]\n",
            "\n",
            "Output Labels (First 10):\n",
            "[1 2 3 3 2 3 2 3 2 3]\n",
            "\n",
            "ONNX Model Predictions:\n",
            "              precision    recall  f1-score   support\n",
            "\n",
            "           1       0.50      0.35      0.41      7473\n",
            "           2       0.75      1.00      0.86     18816\n",
            "           3       0.75      0.63      0.69     23601\n",
            "\n",
            "    accuracy                           0.73     49890\n",
            "   macro avg       0.67      0.66      0.65     49890\n",
            "weighted avg       0.72      0.73      0.71     49890\n",
            "\n"
          ]
        }
      ]
    },
    {
      "cell_type": "code",
      "source": [
        "!pip install pydot graphviz\n",
        "!pip install onnx\n",
        "import onnx\n",
        "from onnx.tools.net_drawer import GetPydotGraph, GetOpNodeProducer\n",
        "import graphviz\n",
        "\n",
        "# Load the ONNX model\n",
        "onnx_model_path = \"model_pipeline.onnx\"\n",
        "model_onnx = onnx.load(onnx_model_path)\n",
        "\n",
        "# Generate a visualization graph\n",
        "pydot_graph = GetPydotGraph(\n",
        "    model_onnx.graph,\n",
        "    name=model_onnx.graph.name,\n",
        "    rankdir=\"TB\",  # Top-to-Bottom layout\n",
        "    node_producer=GetOpNodeProducer(\"docstring\", color=\"yellow\", fillcolor=\"yellow\", style=\"filled\")\n",
        ")\n",
        "\n",
        "# Render the graph using graphviz\n",
        "graphviz.Source(pydot_graph.to_string())\n"
      ],
      "metadata": {
        "colab": {
          "base_uri": "https://localhost:8080/",
          "height": 1000
        },
        "id": "2_sXgrDUkO8W",
        "outputId": "3958d9c4-981f-46e8-fe7a-18a8241b8a05"
      },
      "execution_count": null,
      "outputs": [
        {
          "output_type": "stream",
          "name": "stdout",
          "text": [
            "Requirement already satisfied: pydot in /usr/local/lib/python3.10/dist-packages (3.0.2)\n",
            "Requirement already satisfied: graphviz in /usr/local/lib/python3.10/dist-packages (0.20.3)\n",
            "Requirement already satisfied: pyparsing>=3.0.9 in /usr/local/lib/python3.10/dist-packages (from pydot) (3.2.0)\n",
            "Requirement already satisfied: onnx in /usr/local/lib/python3.10/dist-packages (1.17.0)\n",
            "Requirement already satisfied: numpy>=1.20 in /usr/local/lib/python3.10/dist-packages (from onnx) (1.26.4)\n",
            "Requirement already satisfied: protobuf>=3.20.2 in /usr/local/lib/python3.10/dist-packages (from onnx) (3.20.2)\n"
          ]
        },
        {
          "output_type": "execute_result",
          "data": {
            "image/svg+xml": "<?xml version=\"1.0\" encoding=\"UTF-8\" standalone=\"no\"?>\n<!DOCTYPE svg PUBLIC \"-//W3C//DTD SVG 1.1//EN\"\n \"http://www.w3.org/Graphics/SVG/1.1/DTD/svg11.dtd\">\n<!-- Generated by graphviz version 2.43.0 (0)\n -->\n<!-- Title: 1c44afd10cbb408c8e0ebc0a911372b3 Pages: 1 -->\n<svg width=\"1070pt\" height=\"911pt\"\n viewBox=\"0.00 0.00 1070.00 911.06\" xmlns=\"http://www.w3.org/2000/svg\" xmlns:xlink=\"http://www.w3.org/1999/xlink\">\n<g id=\"graph0\" class=\"graph\" transform=\"scale(1 1) rotate(0) translate(4 907.06)\">\n<title>1c44afd10cbb408c8e0ebc0a911372b3</title>\n<polygon fill=\"white\" stroke=\"transparent\" points=\"-4,4 -4,-907.06 1066,-907.06 1066,4 -4,4\"/>\n<!-- FeatureVectorizer/FeatureVectorizer (op#0)\\n input0 A\\n input1 B\\n input2 C\\n input3 D\\n input4 E\\n input5 F\\n input6 G\\n input7 H\\n input8 I\\n input9 J\\n input10 K\\n input11 L\\n input12 M\\n input13 N\\n input14 O\\n output0 concatenated -->\n<g id=\"node1\" class=\"node\">\n<title>FeatureVectorizer/FeatureVectorizer (op#0)\\n input0 A\\n input1 B\\n input2 C\\n input3 D\\n input4 E\\n input5 F\\n input6 G\\n input7 H\\n input8 I\\n input9 J\\n input10 K\\n input11 L\\n input12 M\\n input13 N\\n input14 O\\n output0 concatenated</title>\n<g id=\"a_node1\"><a xlink:href=\"javascript:alert('')\" xlink:title=\"FeatureVectorizer/FeatureVectorizer (op#0)\\n input0 A\\n input1 B\\n input2 C\\n input3 D\\n input4 E\\n input5 F\\n input6 G\\n input7 H\\n input8 I\\n input9 J\\n input10 K\\n input11 L\\n input12 M\\n input13 N\\n input14 O\\n output0 concatenated\">\n<ellipse fill=\"yellow\" stroke=\"yellow\" cx=\"531\" cy=\"-645.09\" rx=\"178.38\" ry=\"185.94\"/>\n<text text-anchor=\"middle\" x=\"531\" y=\"-761.39\" font-family=\"Times,serif\" font-size=\"14.00\">FeatureVectorizer/FeatureVectorizer (op#0)</text>\n<text text-anchor=\"middle\" x=\"531\" y=\"-746.39\" font-family=\"Times,serif\" font-size=\"14.00\"> input0 A</text>\n<text text-anchor=\"middle\" x=\"531\" y=\"-731.39\" font-family=\"Times,serif\" font-size=\"14.00\"> input1 B</text>\n<text text-anchor=\"middle\" x=\"531\" y=\"-716.39\" font-family=\"Times,serif\" font-size=\"14.00\"> input2 C</text>\n<text text-anchor=\"middle\" x=\"531\" y=\"-701.39\" font-family=\"Times,serif\" font-size=\"14.00\"> input3 D</text>\n<text text-anchor=\"middle\" x=\"531\" y=\"-686.39\" font-family=\"Times,serif\" font-size=\"14.00\"> input4 E</text>\n<text text-anchor=\"middle\" x=\"531\" y=\"-671.39\" font-family=\"Times,serif\" font-size=\"14.00\"> input5 F</text>\n<text text-anchor=\"middle\" x=\"531\" y=\"-656.39\" font-family=\"Times,serif\" font-size=\"14.00\"> input6 G</text>\n<text text-anchor=\"middle\" x=\"531\" y=\"-641.39\" font-family=\"Times,serif\" font-size=\"14.00\"> input7 H</text>\n<text text-anchor=\"middle\" x=\"531\" y=\"-626.39\" font-family=\"Times,serif\" font-size=\"14.00\"> input8 I</text>\n<text text-anchor=\"middle\" x=\"531\" y=\"-611.39\" font-family=\"Times,serif\" font-size=\"14.00\"> input9 J</text>\n<text text-anchor=\"middle\" x=\"531\" y=\"-596.39\" font-family=\"Times,serif\" font-size=\"14.00\"> input10 K</text>\n<text text-anchor=\"middle\" x=\"531\" y=\"-581.39\" font-family=\"Times,serif\" font-size=\"14.00\"> input11 L</text>\n<text text-anchor=\"middle\" x=\"531\" y=\"-566.39\" font-family=\"Times,serif\" font-size=\"14.00\"> input12 M</text>\n<text text-anchor=\"middle\" x=\"531\" y=\"-551.39\" font-family=\"Times,serif\" font-size=\"14.00\"> input13 N</text>\n<text text-anchor=\"middle\" x=\"531\" y=\"-536.39\" font-family=\"Times,serif\" font-size=\"14.00\"> input14 O</text>\n<text text-anchor=\"middle\" x=\"531\" y=\"-521.39\" font-family=\"Times,serif\" font-size=\"14.00\"> output0 concatenated</text>\n</a>\n</g>\n</g>\n<!-- concatenated0 -->\n<g id=\"node17\" class=\"node\">\n<title>concatenated0</title>\n<polygon fill=\"none\" stroke=\"black\" points=\"592.41,-397.66 592.41,-412.58 556.44,-423.12 505.56,-423.12 469.59,-412.58 469.59,-397.66 505.56,-387.12 556.44,-387.12 592.41,-397.66\"/>\n<text text-anchor=\"middle\" x=\"531\" y=\"-401.42\" font-family=\"Times,serif\" font-size=\"14.00\">concatenated</text>\n</g>\n<!-- FeatureVectorizer/FeatureVectorizer (op#0)\\n input0 A\\n input1 B\\n input2 C\\n input3 D\\n input4 E\\n input5 F\\n input6 G\\n input7 H\\n input8 I\\n input9 J\\n input10 K\\n input11 L\\n input12 M\\n input13 N\\n input14 O\\n output0 concatenated&#45;&gt;concatenated0 -->\n<g id=\"edge16\" class=\"edge\">\n<title>FeatureVectorizer/FeatureVectorizer (op#0)\\n input0 A\\n input1 B\\n input2 C\\n input3 D\\n input4 E\\n input5 F\\n input6 G\\n input7 H\\n input8 I\\n input9 J\\n input10 K\\n input11 L\\n input12 M\\n input13 N\\n input14 O\\n output0 concatenated&#45;&gt;concatenated0</title>\n<path fill=\"none\" stroke=\"black\" d=\"M531,-458.93C531,-449.42 531,-440.73 531,-433.27\"/>\n<polygon fill=\"black\" stroke=\"black\" points=\"534.5,-433.27 531,-423.27 527.5,-433.27 534.5,-433.27\"/>\n</g>\n<!-- A0 -->\n<g id=\"node2\" class=\"node\">\n<title>A0</title>\n<polygon fill=\"none\" stroke=\"black\" points=\"54,-877.6 54,-892.51 38.18,-903.06 15.82,-903.06 0,-892.51 0,-877.6 15.82,-867.06 38.18,-867.06 54,-877.6\"/>\n<text text-anchor=\"middle\" x=\"27\" y=\"-881.36\" font-family=\"Times,serif\" font-size=\"14.00\">A</text>\n</g>\n<!-- A0&#45;&gt;FeatureVectorizer/FeatureVectorizer (op#0)\\n input0 A\\n input1 B\\n input2 C\\n input3 D\\n input4 E\\n input5 F\\n input6 G\\n input7 H\\n input8 I\\n input9 J\\n input10 K\\n input11 L\\n input12 M\\n input13 N\\n input14 O\\n output0 concatenated -->\n<g id=\"edge1\" class=\"edge\">\n<title>A0&#45;&gt;FeatureVectorizer/FeatureVectorizer (op#0)\\n input0 A\\n input1 B\\n input2 C\\n input3 D\\n input4 E\\n input5 F\\n input6 G\\n input7 H\\n input8 I\\n input9 J\\n input10 K\\n input11 L\\n input12 M\\n input13 N\\n input14 O\\n output0 concatenated</title>\n<path fill=\"none\" stroke=\"black\" d=\"M48.66,-873.83C101.9,-848.69 243.31,-781.92 359.34,-727.14\"/>\n<polygon fill=\"black\" stroke=\"black\" points=\"361.17,-730.15 368.71,-722.71 358.18,-723.82 361.17,-730.15\"/>\n</g>\n<!-- B0 -->\n<g id=\"node3\" class=\"node\">\n<title>B0</title>\n<polygon fill=\"none\" stroke=\"black\" points=\"126,-877.6 126,-892.51 110.18,-903.06 87.82,-903.06 72,-892.51 72,-877.6 87.82,-867.06 110.18,-867.06 126,-877.6\"/>\n<text text-anchor=\"middle\" x=\"99\" y=\"-881.36\" font-family=\"Times,serif\" font-size=\"14.00\">B</text>\n</g>\n<!-- B0&#45;&gt;FeatureVectorizer/FeatureVectorizer (op#0)\\n input0 A\\n input1 B\\n input2 C\\n input3 D\\n input4 E\\n input5 F\\n input6 G\\n input7 H\\n input8 I\\n input9 J\\n input10 K\\n input11 L\\n input12 M\\n input13 N\\n input14 O\\n output0 concatenated -->\n<g id=\"edge2\" class=\"edge\">\n<title>B0&#45;&gt;FeatureVectorizer/FeatureVectorizer (op#0)\\n input0 A\\n input1 B\\n input2 C\\n input3 D\\n input4 E\\n input5 F\\n input6 G\\n input7 H\\n input8 I\\n input9 J\\n input10 K\\n input11 L\\n input12 M\\n input13 N\\n input14 O\\n output0 concatenated</title>\n<path fill=\"none\" stroke=\"black\" d=\"M119.26,-872.9C163.18,-848.71 270.8,-789.42 365,-737.53\"/>\n<polygon fill=\"black\" stroke=\"black\" points=\"366.71,-740.58 373.78,-732.69 363.33,-734.45 366.71,-740.58\"/>\n</g>\n<!-- C0 -->\n<g id=\"node4\" class=\"node\">\n<title>C0</title>\n<polygon fill=\"none\" stroke=\"black\" points=\"198,-877.6 198,-892.51 182.18,-903.06 159.82,-903.06 144,-892.51 144,-877.6 159.82,-867.06 182.18,-867.06 198,-877.6\"/>\n<text text-anchor=\"middle\" x=\"171\" y=\"-881.36\" font-family=\"Times,serif\" font-size=\"14.00\">C</text>\n</g>\n<!-- C0&#45;&gt;FeatureVectorizer/FeatureVectorizer (op#0)\\n input0 A\\n input1 B\\n input2 C\\n input3 D\\n input4 E\\n input5 F\\n input6 G\\n input7 H\\n input8 I\\n input9 J\\n input10 K\\n input11 L\\n input12 M\\n input13 N\\n input14 O\\n output0 concatenated -->\n<g id=\"edge3\" class=\"edge\">\n<title>C0&#45;&gt;FeatureVectorizer/FeatureVectorizer (op#0)\\n input0 A\\n input1 B\\n input2 C\\n input3 D\\n input4 E\\n input5 F\\n input6 G\\n input7 H\\n input8 I\\n input9 J\\n input10 K\\n input11 L\\n input12 M\\n input13 N\\n input14 O\\n output0 concatenated</title>\n<path fill=\"none\" stroke=\"black\" d=\"M189.6,-871.76C223.91,-849.08 300.24,-798.62 372.05,-751.16\"/>\n<polygon fill=\"black\" stroke=\"black\" points=\"374.37,-753.82 380.78,-745.39 370.51,-747.98 374.37,-753.82\"/>\n</g>\n<!-- D0 -->\n<g id=\"node5\" class=\"node\">\n<title>D0</title>\n<polygon fill=\"none\" stroke=\"black\" points=\"270,-877.6 270,-892.51 254.18,-903.06 231.82,-903.06 216,-892.51 216,-877.6 231.82,-867.06 254.18,-867.06 270,-877.6\"/>\n<text text-anchor=\"middle\" x=\"243\" y=\"-881.36\" font-family=\"Times,serif\" font-size=\"14.00\">D</text>\n</g>\n<!-- D0&#45;&gt;FeatureVectorizer/FeatureVectorizer (op#0)\\n input0 A\\n input1 B\\n input2 C\\n input3 D\\n input4 E\\n input5 F\\n input6 G\\n input7 H\\n input8 I\\n input9 J\\n input10 K\\n input11 L\\n input12 M\\n input13 N\\n input14 O\\n output0 concatenated -->\n<g id=\"edge4\" class=\"edge\">\n<title>D0&#45;&gt;FeatureVectorizer/FeatureVectorizer (op#0)\\n input0 A\\n input1 B\\n input2 C\\n input3 D\\n input4 E\\n input5 F\\n input6 G\\n input7 H\\n input8 I\\n input9 J\\n input10 K\\n input11 L\\n input12 M\\n input13 N\\n input14 O\\n output0 concatenated</title>\n<path fill=\"none\" stroke=\"black\" d=\"M259.73,-870.24C284.63,-849.66 333.87,-808.97 383.64,-767.85\"/>\n<polygon fill=\"black\" stroke=\"black\" points=\"386.15,-770.31 391.63,-761.24 381.7,-764.92 386.15,-770.31\"/>\n</g>\n<!-- E0 -->\n<g id=\"node6\" class=\"node\">\n<title>E0</title>\n<polygon fill=\"none\" stroke=\"black\" points=\"342,-877.6 342,-892.51 326.18,-903.06 303.82,-903.06 288,-892.51 288,-877.6 303.82,-867.06 326.18,-867.06 342,-877.6\"/>\n<text text-anchor=\"middle\" x=\"315\" y=\"-881.36\" font-family=\"Times,serif\" font-size=\"14.00\">E</text>\n</g>\n<!-- E0&#45;&gt;FeatureVectorizer/FeatureVectorizer (op#0)\\n input0 A\\n input1 B\\n input2 C\\n input3 D\\n input4 E\\n input5 F\\n input6 G\\n input7 H\\n input8 I\\n input9 J\\n input10 K\\n input11 L\\n input12 M\\n input13 N\\n input14 O\\n output0 concatenated -->\n<g id=\"edge5\" class=\"edge\">\n<title>E0&#45;&gt;FeatureVectorizer/FeatureVectorizer (op#0)\\n input0 A\\n input1 B\\n input2 C\\n input3 D\\n input4 E\\n input5 F\\n input6 G\\n input7 H\\n input8 I\\n input9 J\\n input10 K\\n input11 L\\n input12 M\\n input13 N\\n input14 O\\n output0 concatenated</title>\n<path fill=\"none\" stroke=\"black\" d=\"M328.84,-868.81C344.64,-851.4 372.17,-821.08 401.91,-788.3\"/>\n<polygon fill=\"black\" stroke=\"black\" points=\"404.57,-790.59 408.7,-780.83 399.39,-785.88 404.57,-790.59\"/>\n</g>\n<!-- F0 -->\n<g id=\"node7\" class=\"node\">\n<title>F0</title>\n<polygon fill=\"none\" stroke=\"black\" points=\"414,-877.6 414,-892.51 398.18,-903.06 375.82,-903.06 360,-892.51 360,-877.6 375.82,-867.06 398.18,-867.06 414,-877.6\"/>\n<text text-anchor=\"middle\" x=\"387\" y=\"-881.36\" font-family=\"Times,serif\" font-size=\"14.00\">F</text>\n</g>\n<!-- F0&#45;&gt;FeatureVectorizer/FeatureVectorizer (op#0)\\n input0 A\\n input1 B\\n input2 C\\n input3 D\\n input4 E\\n input5 F\\n input6 G\\n input7 H\\n input8 I\\n input9 J\\n input10 K\\n input11 L\\n input12 M\\n input13 N\\n input14 O\\n output0 concatenated -->\n<g id=\"edge6\" class=\"edge\">\n<title>F0&#45;&gt;FeatureVectorizer/FeatureVectorizer (op#0)\\n input0 A\\n input1 B\\n input2 C\\n input3 D\\n input4 E\\n input5 F\\n input6 G\\n input7 H\\n input8 I\\n input9 J\\n input10 K\\n input11 L\\n input12 M\\n input13 N\\n input14 O\\n output0 concatenated</title>\n<path fill=\"none\" stroke=\"black\" d=\"M397.36,-866.94C405.36,-853.71 417.34,-833.92 430.9,-811.51\"/>\n<polygon fill=\"black\" stroke=\"black\" points=\"433.98,-813.17 436.17,-802.81 427.99,-809.55 433.98,-813.17\"/>\n</g>\n<!-- G0 -->\n<g id=\"node8\" class=\"node\">\n<title>G0</title>\n<polygon fill=\"none\" stroke=\"black\" points=\"486,-877.6 486,-892.51 470.18,-903.06 447.82,-903.06 432,-892.51 432,-877.6 447.82,-867.06 470.18,-867.06 486,-877.6\"/>\n<text text-anchor=\"middle\" x=\"459\" y=\"-881.36\" font-family=\"Times,serif\" font-size=\"14.00\">G</text>\n</g>\n<!-- G0&#45;&gt;FeatureVectorizer/FeatureVectorizer (op#0)\\n input0 A\\n input1 B\\n input2 C\\n input3 D\\n input4 E\\n input5 F\\n input6 G\\n input7 H\\n input8 I\\n input9 J\\n input10 K\\n input11 L\\n input12 M\\n input13 N\\n input14 O\\n output0 concatenated -->\n<g id=\"edge7\" class=\"edge\">\n<title>G0&#45;&gt;FeatureVectorizer/FeatureVectorizer (op#0)\\n input0 A\\n input1 B\\n input2 C\\n input3 D\\n input4 E\\n input5 F\\n input6 G\\n input7 H\\n input8 I\\n input9 J\\n input10 K\\n input11 L\\n input12 M\\n input13 N\\n input14 O\\n output0 concatenated</title>\n<path fill=\"none\" stroke=\"black\" d=\"M464.18,-866.94C466.88,-858.03 470.48,-846.12 474.62,-832.45\"/>\n<polygon fill=\"black\" stroke=\"black\" points=\"478.01,-833.3 477.56,-822.71 471.31,-831.27 478.01,-833.3\"/>\n</g>\n<!-- H0 -->\n<g id=\"node9\" class=\"node\">\n<title>H0</title>\n<polygon fill=\"none\" stroke=\"black\" points=\"558,-877.6 558,-892.51 542.18,-903.06 519.82,-903.06 504,-892.51 504,-877.6 519.82,-867.06 542.18,-867.06 558,-877.6\"/>\n<text text-anchor=\"middle\" x=\"531\" y=\"-881.36\" font-family=\"Times,serif\" font-size=\"14.00\">H</text>\n</g>\n<!-- H0&#45;&gt;FeatureVectorizer/FeatureVectorizer (op#0)\\n input0 A\\n input1 B\\n input2 C\\n input3 D\\n input4 E\\n input5 F\\n input6 G\\n input7 H\\n input8 I\\n input9 J\\n input10 K\\n input11 L\\n input12 M\\n input13 N\\n input14 O\\n output0 concatenated -->\n<g id=\"edge8\" class=\"edge\">\n<title>H0&#45;&gt;FeatureVectorizer/FeatureVectorizer (op#0)\\n input0 A\\n input1 B\\n input2 C\\n input3 D\\n input4 E\\n input5 F\\n input6 G\\n input7 H\\n input8 I\\n input9 J\\n input10 K\\n input11 L\\n input12 M\\n input13 N\\n input14 O\\n output0 concatenated</title>\n<path fill=\"none\" stroke=\"black\" d=\"M531,-866.94C531,-860.07 531,-851.42 531,-841.56\"/>\n<polygon fill=\"black\" stroke=\"black\" points=\"534.5,-841.31 531,-831.31 527.5,-841.31 534.5,-841.31\"/>\n</g>\n<!-- I0 -->\n<g id=\"node10\" class=\"node\">\n<title>I0</title>\n<polygon fill=\"none\" stroke=\"black\" points=\"630,-877.6 630,-892.51 614.18,-903.06 591.82,-903.06 576,-892.51 576,-877.6 591.82,-867.06 614.18,-867.06 630,-877.6\"/>\n<text text-anchor=\"middle\" x=\"603\" y=\"-881.36\" font-family=\"Times,serif\" font-size=\"14.00\">I</text>\n</g>\n<!-- I0&#45;&gt;FeatureVectorizer/FeatureVectorizer (op#0)\\n input0 A\\n input1 B\\n input2 C\\n input3 D\\n input4 E\\n input5 F\\n input6 G\\n input7 H\\n input8 I\\n input9 J\\n input10 K\\n input11 L\\n input12 M\\n input13 N\\n input14 O\\n output0 concatenated -->\n<g id=\"edge9\" class=\"edge\">\n<title>I0&#45;&gt;FeatureVectorizer/FeatureVectorizer (op#0)\\n input0 A\\n input1 B\\n input2 C\\n input3 D\\n input4 E\\n input5 F\\n input6 G\\n input7 H\\n input8 I\\n input9 J\\n input10 K\\n input11 L\\n input12 M\\n input13 N\\n input14 O\\n output0 concatenated</title>\n<path fill=\"none\" stroke=\"black\" d=\"M597.82,-866.94C595.12,-858.03 591.52,-846.12 587.38,-832.45\"/>\n<polygon fill=\"black\" stroke=\"black\" points=\"590.69,-831.27 584.44,-822.71 583.99,-833.3 590.69,-831.27\"/>\n</g>\n<!-- J0 -->\n<g id=\"node11\" class=\"node\">\n<title>J0</title>\n<polygon fill=\"none\" stroke=\"black\" points=\"702,-877.6 702,-892.51 686.18,-903.06 663.82,-903.06 648,-892.51 648,-877.6 663.82,-867.06 686.18,-867.06 702,-877.6\"/>\n<text text-anchor=\"middle\" x=\"675\" y=\"-881.36\" font-family=\"Times,serif\" font-size=\"14.00\">J</text>\n</g>\n<!-- J0&#45;&gt;FeatureVectorizer/FeatureVectorizer (op#0)\\n input0 A\\n input1 B\\n input2 C\\n input3 D\\n input4 E\\n input5 F\\n input6 G\\n input7 H\\n input8 I\\n input9 J\\n input10 K\\n input11 L\\n input12 M\\n input13 N\\n input14 O\\n output0 concatenated -->\n<g id=\"edge10\" class=\"edge\">\n<title>J0&#45;&gt;FeatureVectorizer/FeatureVectorizer (op#0)\\n input0 A\\n input1 B\\n input2 C\\n input3 D\\n input4 E\\n input5 F\\n input6 G\\n input7 H\\n input8 I\\n input9 J\\n input10 K\\n input11 L\\n input12 M\\n input13 N\\n input14 O\\n output0 concatenated</title>\n<path fill=\"none\" stroke=\"black\" d=\"M664.64,-866.94C656.64,-853.71 644.66,-833.92 631.1,-811.51\"/>\n<polygon fill=\"black\" stroke=\"black\" points=\"634.01,-809.55 625.83,-802.81 628.02,-813.17 634.01,-809.55\"/>\n</g>\n<!-- K0 -->\n<g id=\"node12\" class=\"node\">\n<title>K0</title>\n<polygon fill=\"none\" stroke=\"black\" points=\"774,-877.6 774,-892.51 758.18,-903.06 735.82,-903.06 720,-892.51 720,-877.6 735.82,-867.06 758.18,-867.06 774,-877.6\"/>\n<text text-anchor=\"middle\" x=\"747\" y=\"-881.36\" font-family=\"Times,serif\" font-size=\"14.00\">K</text>\n</g>\n<!-- K0&#45;&gt;FeatureVectorizer/FeatureVectorizer (op#0)\\n input0 A\\n input1 B\\n input2 C\\n input3 D\\n input4 E\\n input5 F\\n input6 G\\n input7 H\\n input8 I\\n input9 J\\n input10 K\\n input11 L\\n input12 M\\n input13 N\\n input14 O\\n output0 concatenated -->\n<g id=\"edge11\" class=\"edge\">\n<title>K0&#45;&gt;FeatureVectorizer/FeatureVectorizer (op#0)\\n input0 A\\n input1 B\\n input2 C\\n input3 D\\n input4 E\\n input5 F\\n input6 G\\n input7 H\\n input8 I\\n input9 J\\n input10 K\\n input11 L\\n input12 M\\n input13 N\\n input14 O\\n output0 concatenated</title>\n<path fill=\"none\" stroke=\"black\" d=\"M733.16,-868.81C717.36,-851.4 689.83,-821.08 660.09,-788.3\"/>\n<polygon fill=\"black\" stroke=\"black\" points=\"662.61,-785.88 653.3,-780.83 657.43,-790.59 662.61,-785.88\"/>\n</g>\n<!-- L0 -->\n<g id=\"node13\" class=\"node\">\n<title>L0</title>\n<polygon fill=\"none\" stroke=\"black\" points=\"846,-877.6 846,-892.51 830.18,-903.06 807.82,-903.06 792,-892.51 792,-877.6 807.82,-867.06 830.18,-867.06 846,-877.6\"/>\n<text text-anchor=\"middle\" x=\"819\" y=\"-881.36\" font-family=\"Times,serif\" font-size=\"14.00\">L</text>\n</g>\n<!-- L0&#45;&gt;FeatureVectorizer/FeatureVectorizer (op#0)\\n input0 A\\n input1 B\\n input2 C\\n input3 D\\n input4 E\\n input5 F\\n input6 G\\n input7 H\\n input8 I\\n input9 J\\n input10 K\\n input11 L\\n input12 M\\n input13 N\\n input14 O\\n output0 concatenated -->\n<g id=\"edge12\" class=\"edge\">\n<title>L0&#45;&gt;FeatureVectorizer/FeatureVectorizer (op#0)\\n input0 A\\n input1 B\\n input2 C\\n input3 D\\n input4 E\\n input5 F\\n input6 G\\n input7 H\\n input8 I\\n input9 J\\n input10 K\\n input11 L\\n input12 M\\n input13 N\\n input14 O\\n output0 concatenated</title>\n<path fill=\"none\" stroke=\"black\" d=\"M802.27,-870.24C777.37,-849.66 728.13,-808.97 678.36,-767.85\"/>\n<polygon fill=\"black\" stroke=\"black\" points=\"680.3,-764.92 670.37,-761.24 675.85,-770.31 680.3,-764.92\"/>\n</g>\n<!-- M0 -->\n<g id=\"node14\" class=\"node\">\n<title>M0</title>\n<polygon fill=\"none\" stroke=\"black\" points=\"918,-877.6 918,-892.51 902.18,-903.06 879.82,-903.06 864,-892.51 864,-877.6 879.82,-867.06 902.18,-867.06 918,-877.6\"/>\n<text text-anchor=\"middle\" x=\"891\" y=\"-881.36\" font-family=\"Times,serif\" font-size=\"14.00\">M</text>\n</g>\n<!-- M0&#45;&gt;FeatureVectorizer/FeatureVectorizer (op#0)\\n input0 A\\n input1 B\\n input2 C\\n input3 D\\n input4 E\\n input5 F\\n input6 G\\n input7 H\\n input8 I\\n input9 J\\n input10 K\\n input11 L\\n input12 M\\n input13 N\\n input14 O\\n output0 concatenated -->\n<g id=\"edge13\" class=\"edge\">\n<title>M0&#45;&gt;FeatureVectorizer/FeatureVectorizer (op#0)\\n input0 A\\n input1 B\\n input2 C\\n input3 D\\n input4 E\\n input5 F\\n input6 G\\n input7 H\\n input8 I\\n input9 J\\n input10 K\\n input11 L\\n input12 M\\n input13 N\\n input14 O\\n output0 concatenated</title>\n<path fill=\"none\" stroke=\"black\" d=\"M872.4,-871.76C838.09,-849.08 761.76,-798.62 689.95,-751.16\"/>\n<polygon fill=\"black\" stroke=\"black\" points=\"691.49,-747.98 681.22,-745.39 687.63,-753.82 691.49,-747.98\"/>\n</g>\n<!-- N0 -->\n<g id=\"node15\" class=\"node\">\n<title>N0</title>\n<polygon fill=\"none\" stroke=\"black\" points=\"990,-877.6 990,-892.51 974.18,-903.06 951.82,-903.06 936,-892.51 936,-877.6 951.82,-867.06 974.18,-867.06 990,-877.6\"/>\n<text text-anchor=\"middle\" x=\"963\" y=\"-881.36\" font-family=\"Times,serif\" font-size=\"14.00\">N</text>\n</g>\n<!-- N0&#45;&gt;FeatureVectorizer/FeatureVectorizer (op#0)\\n input0 A\\n input1 B\\n input2 C\\n input3 D\\n input4 E\\n input5 F\\n input6 G\\n input7 H\\n input8 I\\n input9 J\\n input10 K\\n input11 L\\n input12 M\\n input13 N\\n input14 O\\n output0 concatenated -->\n<g id=\"edge14\" class=\"edge\">\n<title>N0&#45;&gt;FeatureVectorizer/FeatureVectorizer (op#0)\\n input0 A\\n input1 B\\n input2 C\\n input3 D\\n input4 E\\n input5 F\\n input6 G\\n input7 H\\n input8 I\\n input9 J\\n input10 K\\n input11 L\\n input12 M\\n input13 N\\n input14 O\\n output0 concatenated</title>\n<path fill=\"none\" stroke=\"black\" d=\"M942.74,-872.9C898.82,-848.71 791.2,-789.42 697,-737.53\"/>\n<polygon fill=\"black\" stroke=\"black\" points=\"698.67,-734.45 688.22,-732.69 695.29,-740.58 698.67,-734.45\"/>\n</g>\n<!-- O0 -->\n<g id=\"node16\" class=\"node\">\n<title>O0</title>\n<polygon fill=\"none\" stroke=\"black\" points=\"1062,-877.6 1062,-892.51 1046.18,-903.06 1023.82,-903.06 1008,-892.51 1008,-877.6 1023.82,-867.06 1046.18,-867.06 1062,-877.6\"/>\n<text text-anchor=\"middle\" x=\"1035\" y=\"-881.36\" font-family=\"Times,serif\" font-size=\"14.00\">O</text>\n</g>\n<!-- O0&#45;&gt;FeatureVectorizer/FeatureVectorizer (op#0)\\n input0 A\\n input1 B\\n input2 C\\n input3 D\\n input4 E\\n input5 F\\n input6 G\\n input7 H\\n input8 I\\n input9 J\\n input10 K\\n input11 L\\n input12 M\\n input13 N\\n input14 O\\n output0 concatenated -->\n<g id=\"edge15\" class=\"edge\">\n<title>O0&#45;&gt;FeatureVectorizer/FeatureVectorizer (op#0)\\n input0 A\\n input1 B\\n input2 C\\n input3 D\\n input4 E\\n input5 F\\n input6 G\\n input7 H\\n input8 I\\n input9 J\\n input10 K\\n input11 L\\n input12 M\\n input13 N\\n input14 O\\n output0 concatenated</title>\n<path fill=\"none\" stroke=\"black\" d=\"M1013.34,-873.83C960.1,-848.69 818.69,-781.92 702.66,-727.14\"/>\n<polygon fill=\"black\" stroke=\"black\" points=\"703.82,-723.82 693.29,-722.71 700.83,-730.15 703.82,-723.82\"/>\n</g>\n<!-- Scaler/Scaler (op#1)\\n input0 concatenated\\n output0 variable -->\n<g id=\"node18\" class=\"node\">\n<title>Scaler/Scaler (op#1)\\n input0 concatenated\\n output0 variable</title>\n<g id=\"a_node18\"><a xlink:href=\"javascript:alert('')\" xlink:title=\"Scaler/Scaler (op#1)\\n input0 concatenated\\n output0 variable\">\n<ellipse fill=\"yellow\" stroke=\"yellow\" cx=\"531\" cy=\"-313.64\" rx=\"91.43\" ry=\"37.45\"/>\n<text text-anchor=\"middle\" x=\"531\" y=\"-324.94\" font-family=\"Times,serif\" font-size=\"14.00\">Scaler/Scaler (op#1)</text>\n<text text-anchor=\"middle\" x=\"531\" y=\"-309.94\" font-family=\"Times,serif\" font-size=\"14.00\"> input0 concatenated</text>\n<text text-anchor=\"middle\" x=\"531\" y=\"-294.94\" font-family=\"Times,serif\" font-size=\"14.00\"> output0 variable</text>\n</a>\n</g>\n</g>\n<!-- concatenated0&#45;&gt;Scaler/Scaler (op#1)\\n input0 concatenated\\n output0 variable -->\n<g id=\"edge17\" class=\"edge\">\n<title>concatenated0&#45;&gt;Scaler/Scaler (op#1)\\n input0 concatenated\\n output0 variable</title>\n<path fill=\"none\" stroke=\"black\" d=\"M531,-386.87C531,-379.56 531,-370.66 531,-361.64\"/>\n<polygon fill=\"black\" stroke=\"black\" points=\"534.5,-361.47 531,-351.47 527.5,-361.47 534.5,-361.47\"/>\n</g>\n<!-- variable0 -->\n<g id=\"node19\" class=\"node\">\n<title>variable0</title>\n<polygon fill=\"none\" stroke=\"black\" points=\"573.42,-214.71 573.42,-229.62 548.57,-240.17 513.43,-240.17 488.58,-229.62 488.58,-214.71 513.43,-204.17 548.57,-204.17 573.42,-214.71\"/>\n<text text-anchor=\"middle\" x=\"531\" y=\"-218.47\" font-family=\"Times,serif\" font-size=\"14.00\">variable</text>\n</g>\n<!-- Scaler/Scaler (op#1)\\n input0 concatenated\\n output0 variable&#45;&gt;variable0 -->\n<g id=\"edge18\" class=\"edge\">\n<title>Scaler/Scaler (op#1)\\n input0 concatenated\\n output0 variable&#45;&gt;variable0</title>\n<path fill=\"none\" stroke=\"black\" d=\"M531,-275.99C531,-267.5 531,-258.6 531,-250.58\"/>\n<polygon fill=\"black\" stroke=\"black\" points=\"534.5,-250.31 531,-240.31 527.5,-250.31 534.5,-250.31\"/>\n</g>\n<!-- TreeEnsembleClassifier/TreeEnsembleClassifier (op#2)\\n input0 variable\\n output0 label\\n output1 probabilities -->\n<g id=\"node20\" class=\"node\">\n<title>TreeEnsembleClassifier/TreeEnsembleClassifier (op#2)\\n input0 variable\\n output0 label\\n output1 probabilities</title>\n<g id=\"a_node20\"><a xlink:href=\"javascript:alert('')\" xlink:title=\"TreeEnsembleClassifier/TreeEnsembleClassifier (op#2)\\n input0 variable\\n output0 label\\n output1 probabilities\">\n<ellipse fill=\"yellow\" stroke=\"yellow\" cx=\"531\" cy=\"-120.08\" rx=\"226.96\" ry=\"48.17\"/>\n<text text-anchor=\"middle\" x=\"531\" y=\"-138.88\" font-family=\"Times,serif\" font-size=\"14.00\">TreeEnsembleClassifier/TreeEnsembleClassifier (op#2)</text>\n<text text-anchor=\"middle\" x=\"531\" y=\"-123.88\" font-family=\"Times,serif\" font-size=\"14.00\"> input0 variable</text>\n<text text-anchor=\"middle\" x=\"531\" y=\"-108.88\" font-family=\"Times,serif\" font-size=\"14.00\"> output0 label</text>\n<text text-anchor=\"middle\" x=\"531\" y=\"-93.88\" font-family=\"Times,serif\" font-size=\"14.00\"> output1 probabilities</text>\n</a>\n</g>\n</g>\n<!-- variable0&#45;&gt;TreeEnsembleClassifier/TreeEnsembleClassifier (op#2)\\n input0 variable\\n output0 label\\n output1 probabilities -->\n<g id=\"edge19\" class=\"edge\">\n<title>variable0&#45;&gt;TreeEnsembleClassifier/TreeEnsembleClassifier (op#2)\\n input0 variable\\n output0 label\\n output1 probabilities</title>\n<path fill=\"none\" stroke=\"black\" d=\"M531,-203.73C531,-196.49 531,-187.64 531,-178.46\"/>\n<polygon fill=\"black\" stroke=\"black\" points=\"534.5,-178.41 531,-168.41 527.5,-178.41 534.5,-178.41\"/>\n</g>\n<!-- label0 -->\n<g id=\"node21\" class=\"node\">\n<title>label0</title>\n<polygon fill=\"none\" stroke=\"black\" points=\"508,-10.54 508,-25.46 490.43,-36 465.57,-36 448,-25.46 448,-10.54 465.57,0 490.43,0 508,-10.54\"/>\n<text text-anchor=\"middle\" x=\"478\" y=\"-14.3\" font-family=\"Times,serif\" font-size=\"14.00\">label</text>\n</g>\n<!-- TreeEnsembleClassifier/TreeEnsembleClassifier (op#2)\\n input0 variable\\n output0 label\\n output1 probabilities&#45;&gt;label0 -->\n<g id=\"edge20\" class=\"edge\">\n<title>TreeEnsembleClassifier/TreeEnsembleClassifier (op#2)\\n input0 variable\\n output0 label\\n output1 probabilities&#45;&gt;label0</title>\n<path fill=\"none\" stroke=\"black\" d=\"M506.21,-72.26C501.33,-63.05 496.37,-53.69 492,-45.44\"/>\n<polygon fill=\"black\" stroke=\"black\" points=\"494.95,-43.54 487.18,-36.34 488.77,-46.81 494.95,-43.54\"/>\n</g>\n<!-- probabilities0 -->\n<g id=\"node22\" class=\"node\">\n<title>probabilities0</title>\n<polygon fill=\"none\" stroke=\"black\" points=\"644.19,-10.54 644.19,-25.46 609.52,-36 560.48,-36 525.81,-25.46 525.81,-10.54 560.48,0 609.52,0 644.19,-10.54\"/>\n<text text-anchor=\"middle\" x=\"585\" y=\"-14.3\" font-family=\"Times,serif\" font-size=\"14.00\">probabilities</text>\n</g>\n<!-- TreeEnsembleClassifier/TreeEnsembleClassifier (op#2)\\n input0 variable\\n output0 label\\n output1 probabilities&#45;&gt;probabilities0 -->\n<g id=\"edge21\" class=\"edge\">\n<title>TreeEnsembleClassifier/TreeEnsembleClassifier (op#2)\\n input0 variable\\n output0 label\\n output1 probabilities&#45;&gt;probabilities0</title>\n<path fill=\"none\" stroke=\"black\" d=\"M556.26,-72.26C561.29,-62.95 566.39,-53.49 570.88,-45.17\"/>\n<polygon fill=\"black\" stroke=\"black\" points=\"573.98,-46.8 575.64,-36.34 567.82,-43.48 573.98,-46.8\"/>\n</g>\n</g>\n</svg>\n",
            "text/plain": [
              "<graphviz.sources.Source at 0x7b7ede1e36a0>"
            ]
          },
          "metadata": {},
          "execution_count": 32
        }
      ]
    },
    {
      "cell_type": "code",
      "source": [],
      "metadata": {
        "id": "lTZHCW0Ko_VI"
      },
      "execution_count": null,
      "outputs": []
    }
  ]
}